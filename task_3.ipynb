{
 "cells": [
  {
   "cell_type": "code",
   "execution_count": 47,
   "metadata": {},
   "outputs": [],
   "source": [
    "def patternValidate(pattern): # check pattern is valid\n",
    "    for i in range(1, len(pattern)):\n",
    "        if pattern[i] == '*':\n",
    "            if pattern[i-1] == \"*\":\n",
    "                return False\n",
    "    return True"
   ]
  },
  {
   "cell_type": "code",
   "execution_count": 48,
   "metadata": {},
   "outputs": [],
   "source": [
    "def patternMatches(string, pattern): # Recursive function to check if string matches pattern\n",
    "    \n",
    "    if pattern == \"\" or string == \"\":\n",
    "        return True\n",
    "    \n",
    "    # check 1st letter of the pattern, if 1st is . then it can match any letter\n",
    "    firstLetterMatch = string and (string[0] == pattern[0] or pattern[0] == '.')\n",
    "\n",
    "    # 2nd letter is * \n",
    "    if len(pattern) >= 2 and pattern[1] == '*':\n",
    "\n",
    "        # ignore *, so move to 2nd letter of pattern p[2:]\n",
    "        skipPattern = patternMatches(string, pattern[2:])\n",
    "        # first match, move to the next letter in the string and keep the pattern\n",
    "        ifMatchContinue = firstLetterMatch and patternMatches(string[1:], pattern)\n",
    "\n",
    "        return (skipPattern or ifMatchContinue)\n",
    "\n",
    "    # If no '*', move to the next letter in both the string and the pattern\n",
    "    nextLetter = patternMatches(string[1:], pattern[1:])\n",
    "    return firstLetterMatch and nextLetter"
   ]
  },
  {
   "cell_type": "code",
   "execution_count": 49,
   "metadata": {},
   "outputs": [],
   "source": [
    "def stringPatternMatch(string, pattern):\n",
    "    if patternValidate(pattern) == False:\n",
    "        print(\"Error: Invalid pattern\")\n",
    "        return False\n",
    "    else:\n",
    "        return patternMatches(string, pattern)"
   ]
  },
  {
   "cell_type": "code",
   "execution_count": 50,
   "metadata": {},
   "outputs": [
    {
     "name": "stdout",
     "output_type": "stream",
     "text": [
      "True\n",
      "True\n",
      "True\n",
      "Error: Invalid pattern\n",
      "False\n"
     ]
    }
   ],
   "source": [
    "\n",
    "print(stringPatternMatch(\"abc\", \"aa*b.\"))  # True\n",
    "print(stringPatternMatch(\"aaaab\", \"aa*b.\"))  # False\n",
    "print(stringPatternMatch(\"abcabc\", \".*bc\"))  # True\n",
    "print(stringPatternMatch(\"abc\", \"aa**b.\"))  # Error: Invalid pattern "
   ]
  }
 ],
 "metadata": {
  "kernelspec": {
   "display_name": "Python 3",
   "language": "python",
   "name": "python3"
  },
  "language_info": {
   "codemirror_mode": {
    "name": "ipython",
    "version": 3
   },
   "file_extension": ".py",
   "mimetype": "text/x-python",
   "name": "python",
   "nbconvert_exporter": "python",
   "pygments_lexer": "ipython3",
   "version": "3.12.6"
  }
 },
 "nbformat": 4,
 "nbformat_minor": 2
}
