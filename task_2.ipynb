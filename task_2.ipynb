{
    "cells": [
        {
            "cell_type": "code",
            "execution_count": 1,
            "metadata": {
                "azdata_cell_guid": "4c2b5f73-398a-4ebf-aa2a-3d8244c448ce",
                "language": "sql"
            },
            "outputs": [
                {
                    "data": {
                        "text/html": [
                            "(1 row affected)"
                        ]
                    },
                    "metadata": {},
                    "output_type": "display_data"
                },
                {
                    "data": {
                        "text/html": [
                            "Total execution time: 00:00:00.027"
                        ]
                    },
                    "metadata": {},
                    "output_type": "display_data"
                },
                {
                    "data": {
                        "application/vnd.dataresource+json": {
                            "data": [
                                {
                                    "cid": "2",
                                    "name": "Sabina"
                                }
                            ],
                            "schema": {
                                "fields": [
                                    {
                                        "name": "cid"
                                    },
                                    {
                                        "name": "name"
                                    }
                                ]
                            }
                        },
                        "text/html": [
                            "<table>\n",
                            "<tr><th>cid</th><th>name</th></tr>\n",
                            "<tr><td>2</td><td>Sabina</td></tr>\n",
                            "</table>"
                        ]
                    },
                    "execution_count": 1,
                    "metadata": {},
                    "output_type": "execute_result"
                }
            ],
            "source": [
                "-- 1.\n",
                "SELECT c.cid, c.name from Customer c\n",
                "LEFT JOIN Ordered o ON c.cid = o.cid\n",
                "LEFT JOIN Tour t ON o.tid = t.tid\n",
                "LEFT JOIN TourGuide tg ON t.tgid = tg.tgid\n",
                "WHERE c.frequentTravelerStatus = 'silver' AND tg.name = 'B. Grylls'"
            ]
        },
        {
            "cell_type": "code",
            "execution_count": 2,
            "metadata": {
                "azdata_cell_guid": "0ce228ec-eecf-4ce5-a032-fb8caf953a6b",
                "language": "sql"
            },
            "outputs": [
                {
                    "data": {
                        "text/html": [
                            "(1 row affected)"
                        ]
                    },
                    "metadata": {},
                    "output_type": "display_data"
                },
                {
                    "data": {
                        "text/html": [
                            "Total execution time: 00:00:00.023"
                        ]
                    },
                    "metadata": {},
                    "output_type": "display_data"
                },
                {
                    "data": {
                        "application/vnd.dataresource+json": {
                            "data": [
                                {
                                    "oldest_age": "66"
                                }
                            ],
                            "schema": {
                                "fields": [
                                    {
                                        "name": "oldest_age"
                                    }
                                ]
                            }
                        },
                        "text/html": [
                            "<table>\n",
                            "<tr><th>oldest_age</th></tr>\n",
                            "<tr><td>66</td></tr>\n",
                            "</table>"
                        ]
                    },
                    "execution_count": 2,
                    "metadata": {},
                    "output_type": "execute_result"
                }
            ],
            "source": [
                "-- 2.\n",
                "SELECT MAX(c.age) AS oldest_age\n",
                "FROM customer c\n",
                "JOIN ordered o ON c.cid = o.cid\n",
                "JOIN tour t ON o.tid = t.tid\n",
                "JOIN tourGuide tg ON t.tgid = tg.tgid\n",
                "WHERE c.countryOfResidence = 'Germany' OR tg.name = 'B. Grylls'"
            ]
        },
        {
            "cell_type": "code",
            "execution_count": 3,
            "metadata": {
                "azdata_cell_guid": "b057266d-14f7-4052-af2a-4b041f90d48b",
                "language": "sql"
            },
            "outputs": [
                {
                    "data": {
                        "text/html": [
                            "(2 rows affected)"
                        ]
                    },
                    "metadata": {},
                    "output_type": "display_data"
                },
                {
                    "data": {
                        "text/html": [
                            "Total execution time: 00:00:00.023"
                        ]
                    },
                    "metadata": {},
                    "output_type": "display_data"
                },
                {
                    "data": {
                        "application/vnd.dataresource+json": {
                            "data": [
                                {
                                    "tourName": "Bosnia and Herzegovina"
                                },
                                {
                                    "tourName": "Oman"
                                }
                            ],
                            "schema": {
                                "fields": [
                                    {
                                        "name": "tourName"
                                    }
                                ]
                            }
                        },
                        "text/html": [
                            "<table>\n",
                            "<tr><th>tourName</th></tr>\n",
                            "<tr><td>Bosnia and Herzegovina</td></tr>\n",
                            "<tr><td>Oman</td></tr>\n",
                            "</table>"
                        ]
                    },
                    "execution_count": 3,
                    "metadata": {},
                    "output_type": "execute_result"
                }
            ],
            "source": [
                "-- 3.\n",
                "SELECT DISTINCT t.destinationCountry AS tourName\n",
                "FROM tour t\n",
                "WHERE t.destinationCountry = 'Oman' OR \n",
                "t.tid IN (SELECT o.tid FROM Ordered o GROUP BY o.tid HAVING COUNT(DISTINCT o.cid) >= 5)"
            ]
        },
        {
            "cell_type": "code",
            "execution_count": 4,
            "metadata": {
                "azdata_cell_guid": "3043eb7c-da98-40ed-ab9b-668a30b653df",
                "language": "sql"
            },
            "outputs": [
                {
                    "data": {
                        "text/html": [
                            "(3 rows affected)"
                        ]
                    },
                    "metadata": {},
                    "output_type": "display_data"
                },
                {
                    "data": {
                        "text/html": [
                            "Total execution time: 00:00:00.022"
                        ]
                    },
                    "metadata": {},
                    "output_type": "display_data"
                },
                {
                    "data": {
                        "application/vnd.dataresource+json": {
                            "data": [
                                {
                                    "cid": "1",
                                    "name": "Linda"
                                },
                                {
                                    "cid": "2",
                                    "name": "Sabina"
                                },
                                {
                                    "cid": "3",
                                    "name": "John"
                                }
                            ],
                            "schema": {
                                "fields": [
                                    {
                                        "name": "cid"
                                    },
                                    {
                                        "name": "name"
                                    }
                                ]
                            }
                        },
                        "text/html": [
                            "<table>\n",
                            "<tr><th>cid</th><th>name</th></tr>\n",
                            "<tr><td>1</td><td>Linda</td></tr>\n",
                            "<tr><td>2</td><td>Sabina</td></tr>\n",
                            "<tr><td>3</td><td>John</td></tr>\n",
                            "</table>"
                        ]
                    },
                    "execution_count": 4,
                    "metadata": {},
                    "output_type": "execute_result"
                }
            ],
            "source": [
                "-- 4.\n",
                "SELECT c.cid, c.name FROM Customer c\n",
                "JOIN Ordered o ON c.cid = o.cid\n",
                "JOIN Tour t ON o.tid = t.tid\n",
                "GROUP BY t.tourDate, c.cid, c.name\n",
                "HAVING (COUNT(t.tid)>=2)"
            ]
        },
        {
            "cell_type": "code",
            "execution_count": 5,
            "metadata": {
                "azdata_cell_guid": "4d828b3f-7ca5-456f-8f8d-ded06652821f",
                "language": "sql"
            },
            "outputs": [
                {
                    "data": {
                        "text/html": [
                            "(1 row affected)"
                        ]
                    },
                    "metadata": {},
                    "output_type": "display_data"
                },
                {
                    "data": {
                        "text/html": [
                            "Total execution time: 00:00:00.021"
                        ]
                    },
                    "metadata": {},
                    "output_type": "display_data"
                },
                {
                    "data": {
                        "application/vnd.dataresource+json": {
                            "data": [
                                {
                                    "name": "Kamber",
                                    "tgid": "1"
                                }
                            ],
                            "schema": {
                                "fields": [
                                    {
                                        "name": "tgid"
                                    },
                                    {
                                        "name": "name"
                                    }
                                ]
                            }
                        },
                        "text/html": [
                            "<table>\n",
                            "<tr><th>tgid</th><th>name</th></tr>\n",
                            "<tr><td>1</td><td>Kamber</td></tr>\n",
                            "</table>"
                        ]
                    },
                    "execution_count": 5,
                    "metadata": {},
                    "output_type": "execute_result"
                }
            ],
            "source": [
                "-- 5.\n",
                "SELECT tg.tgid, tg.name FROM TourGuide tg\n",
                "JOIN tour t ON tg.tgid = t.tgid\n",
                "GROUP BY tg.tgid, tg.name\n",
                "HAVING COUNT(DISTINCT t.destinationCountry) = (SELECT COUNT(DISTINCT t.destinationCountry) FROM Tour t)\n",
                "           "
            ]
        },
        {
            "cell_type": "code",
            "execution_count": 6,
            "metadata": {
                "azdata_cell_guid": "be818284-1af0-412b-98ac-49343ff5415b",
                "language": "sql"
            },
            "outputs": [
                {
                    "data": {
                        "text/html": [
                            "(3 rows affected)"
                        ]
                    },
                    "metadata": {},
                    "output_type": "display_data"
                },
                {
                    "data": {
                        "text/html": [
                            "Total execution time: 00:00:00.020"
                        ]
                    },
                    "metadata": {},
                    "output_type": "display_data"
                },
                {
                    "data": {
                        "application/vnd.dataresource+json": {
                            "data": [
                                {
                                    "name": "Manuel",
                                    "tgid": "2"
                                },
                                {
                                    "name": "B. Grylls",
                                    "tgid": "3"
                                },
                                {
                                    "name": "RandomGuy",
                                    "tgid": "5"
                                }
                            ],
                            "schema": {
                                "fields": [
                                    {
                                        "name": "name"
                                    },
                                    {
                                        "name": "tgid"
                                    }
                                ]
                            }
                        },
                        "text/html": [
                            "<table>\n",
                            "<tr><th>name</th><th>tgid</th></tr>\n",
                            "<tr><td>Manuel</td><td>2</td></tr>\n",
                            "<tr><td>B. Grylls</td><td>3</td></tr>\n",
                            "<tr><td>RandomGuy</td><td>5</td></tr>\n",
                            "</table>"
                        ]
                    },
                    "execution_count": 6,
                    "metadata": {},
                    "output_type": "execute_result"
                }
            ],
            "source": [
                "-- 6.\n",
                "SELECT TG.name, TG.tgid FROM TourGuide TG\n",
                "JOIN Tour t ON TG.tgid = t.tgid\n",
                "GROUP BY TG.tgid, TG.name\n",
                "HAVING COUNT(t.tid) < 3"
            ]
        },
        {
            "cell_type": "code",
            "execution_count": 7,
            "metadata": {
                "azdata_cell_guid": "2bb62b9d-169b-48b4-bbb8-e2af61c6c4bc",
                "language": "sql"
            },
            "outputs": [
                {
                    "data": {
                        "text/html": [
                            "(1 row affected)"
                        ]
                    },
                    "metadata": {},
                    "output_type": "display_data"
                },
                {
                    "data": {
                        "text/html": [
                            "Total execution time: 00:00:00.022"
                        ]
                    },
                    "metadata": {},
                    "output_type": "display_data"
                },
                {
                    "data": {
                        "application/vnd.dataresource+json": {
                            "data": [
                                {
                                    "averageAge": "46",
                                    "frequentTravelerStatus": "silver"
                                }
                            ],
                            "schema": {
                                "fields": [
                                    {
                                        "name": "averageAge"
                                    },
                                    {
                                        "name": "frequentTravelerStatus"
                                    }
                                ]
                            }
                        },
                        "text/html": [
                            "<table>\n",
                            "<tr><th>averageAge</th><th>frequentTravelerStatus</th></tr>\n",
                            "<tr><td>46</td><td>silver</td></tr>\n",
                            "</table>"
                        ]
                    },
                    "execution_count": 7,
                    "metadata": {},
                    "output_type": "execute_result"
                }
            ],
            "source": [
                "-- 7.\n",
                "SELECT AVG(age) as averageAge, frequentTravelerStatus\n",
                "FROM Customer\n",
                "WHERE age > 40\n",
                "GROUP BY  frequentTravelerStatus\n",
                "HAVING AVG(age) < 50"
            ]
        },
        {
            "cell_type": "code",
            "execution_count": 8,
            "metadata": {
                "azdata_cell_guid": "36a9f68b-2014-43ad-afb7-bf62ec551d62",
                "language": "sql"
            },
            "outputs": [
                {
                    "data": {
                        "text/html": [
                            "(1 row affected)"
                        ]
                    },
                    "metadata": {},
                    "output_type": "display_data"
                },
                {
                    "data": {
                        "text/html": [
                            "Total execution time: 00:00:00.024"
                        ]
                    },
                    "metadata": {},
                    "output_type": "display_data"
                },
                {
                    "data": {
                        "application/vnd.dataresource+json": {
                            "data": [
                                {
                                    "name": "RandomGuy",
                                    "tgid": "5",
                                    "total_tours": "2"
                                }
                            ],
                            "schema": {
                                "fields": [
                                    {
                                        "name": "tgid"
                                    },
                                    {
                                        "name": "name"
                                    },
                                    {
                                        "name": "total_tours"
                                    }
                                ]
                            }
                        },
                        "text/html": [
                            "<table>\n",
                            "<tr><th>tgid</th><th>name</th><th>total_tours</th></tr>\n",
                            "<tr><td>5</td><td>RandomGuy</td><td>2</td></tr>\n",
                            "</table>"
                        ]
                    },
                    "execution_count": 8,
                    "metadata": {},
                    "output_type": "execute_result"
                }
            ],
            "source": [
                "-- 8.\n",
                "SELECT tg.tgid, tg.name, COUNT(t.tid) AS total_tours\n",
                "FROM tourGuide tg\n",
                "JOIN tour t ON tg.tgid = t.tgid\n",
                "GROUP BY tg.tgid, tg.name\n",
                "HAVING COUNT(DISTINCT t.destinationCountry) = 1 AND MAX(t.destinationCountry) = 'Oman'"
            ]
        },
        {
            "cell_type": "code",
            "execution_count": 9,
            "metadata": {
                "azdata_cell_guid": "7cdd960e-6471-4b25-8c0a-be24f4b03388",
                "language": "sql"
            },
            "outputs": [
                {
                    "data": {
                        "text/html": [
                            "(0 rows affected)"
                        ]
                    },
                    "metadata": {},
                    "output_type": "display_data"
                },
                {
                    "data": {
                        "text/html": [
                            "Total execution time: 00:00:00.027"
                        ]
                    },
                    "metadata": {},
                    "output_type": "display_data"
                },
                {
                    "data": {
                        "application/vnd.dataresource+json": {
                            "data": [],
                            "schema": {
                                "fields": [
                                    {
                                        "name": "cid"
                                    },
                                    {
                                        "name": "name"
                                    }
                                ]
                            }
                        },
                        "text/html": [
                            "<table>\n",
                            "<tr><th>cid</th><th>name</th></tr>\n",
                            "</table>"
                        ]
                    },
                    "execution_count": 9,
                    "metadata": {},
                    "output_type": "execute_result"
                }
            ],
            "source": [
                "-- 9.\n",
                "SELECT c.cid, c.name\n",
                "FROM customer c\n",
                "JOIN ordered o ON c.cid = o.cid\n",
                "GROUP BY c.cid, c.name\n",
                "HAVING COUNT(o.tid) = (SELECT COUNT(DISTINCT t.tid) FROM tour t)"
            ]
        },
        {
            "cell_type": "code",
            "execution_count": 10,
            "metadata": {
                "azdata_cell_guid": "853e3a23-b21c-45bb-85fe-dcbdd4d65833",
                "language": "sql"
            },
            "outputs": [
                {
                    "data": {
                        "text/html": [
                            "(1 row affected)"
                        ]
                    },
                    "metadata": {},
                    "output_type": "display_data"
                },
                {
                    "data": {
                        "text/html": [
                            "Total execution time: 00:00:00.024"
                        ]
                    },
                    "metadata": {},
                    "output_type": "display_data"
                },
                {
                    "data": {
                        "application/vnd.dataresource+json": {
                            "data": [
                                {
                                    "age": "70",
                                    "cid": "7",
                                    "countryOfResidence": "Germany",
                                    "frequentTravelerStatus": "diamond",
                                    "name": "Peter"
                                }
                            ],
                            "schema": {
                                "fields": [
                                    {
                                        "name": "cid"
                                    },
                                    {
                                        "name": "name"
                                    },
                                    {
                                        "name": "countryOfResidence"
                                    },
                                    {
                                        "name": "age"
                                    },
                                    {
                                        "name": "frequentTravelerStatus"
                                    }
                                ]
                            }
                        },
                        "text/html": [
                            "<table>\n",
                            "<tr><th>cid</th><th>name</th><th>countryOfResidence</th><th>age</th><th>frequentTravelerStatus</th></tr>\n",
                            "<tr><td>7</td><td>Peter</td><td>Germany</td><td>70</td><td>diamond</td></tr>\n",
                            "</table>"
                        ]
                    },
                    "execution_count": 10,
                    "metadata": {},
                    "output_type": "execute_result"
                }
            ],
            "source": [
                "-- 10.\n",
                "SELECT * FROM Customer c WHERE c.cid NOT IN (SELECT DISTINCT(o.cid) FROM Ordered o)"
            ]
        },
        {
            "cell_type": "code",
            "execution_count": 11,
            "metadata": {
                "azdata_cell_guid": "c44b1fd5-6085-43f1-aa11-bdc181aa43e8",
                "language": "sql"
            },
            "outputs": [
                {
                    "data": {
                        "text/html": [
                            "(5 rows affected)"
                        ]
                    },
                    "metadata": {},
                    "output_type": "display_data"
                },
                {
                    "data": {
                        "text/html": [
                            "Total execution time: 00:00:00.027"
                        ]
                    },
                    "metadata": {},
                    "output_type": "display_data"
                },
                {
                    "data": {
                        "application/vnd.dataresource+json": {
                            "data": [
                                {
                                    "age": "26",
                                    "frequentTravelerStatus": "diamond",
                                    "status_count": "2"
                                },
                                {
                                    "age": "45",
                                    "frequentTravelerStatus": "diamond",
                                    "status_count": "1"
                                },
                                {
                                    "age": "46",
                                    "frequentTravelerStatus": "silver",
                                    "status_count": "1"
                                },
                                {
                                    "age": "66",
                                    "frequentTravelerStatus": "platinum",
                                    "status_count": "1"
                                },
                                {
                                    "age": "70",
                                    "frequentTravelerStatus": "diamond",
                                    "status_count": "1"
                                }
                            ],
                            "schema": {
                                "fields": [
                                    {
                                        "name": "age"
                                    },
                                    {
                                        "name": "frequentTravelerStatus"
                                    },
                                    {
                                        "name": "status_count"
                                    }
                                ]
                            }
                        },
                        "text/html": [
                            "<table>\n",
                            "<tr><th>age</th><th>frequentTravelerStatus</th><th>status_count</th></tr>\n",
                            "<tr><td>26</td><td>diamond</td><td>2</td></tr>\n",
                            "<tr><td>45</td><td>diamond</td><td>1</td></tr>\n",
                            "<tr><td>46</td><td>silver</td><td>1</td></tr>\n",
                            "<tr><td>66</td><td>platinum</td><td>1</td></tr>\n",
                            "<tr><td>70</td><td>diamond</td><td>1</td></tr>\n",
                            "</table>"
                        ]
                    },
                    "execution_count": 11,
                    "metadata": {},
                    "output_type": "execute_result"
                }
            ],
            "source": [
                "-- 11.\n",
                "WITH StatusCounts AS (\n",
                "    SELECT c.age, c.frequentTravelerStatus, COUNT(*) AS status_count,\n",
                "            ROW_NUMBER() OVER (PARTITION BY c.age ORDER BY COUNT(*) DESC) AS sequence_number\n",
                "        FROM customer c\n",
                "        GROUP BY c.age, c.frequentTravelerStatus)\n",
                "SELECT age, frequentTravelerStatus, status_count\n",
                "    FROM StatusCounts\n",
                "    WHERE sequence_number = 1"
            ]
        }
    ],
    "metadata": {
        "kernelspec": {
            "display_name": "SQL",
            "language": "sql",
            "name": "SQL"
        },
        "language_info": {
            "name": "sql",
            "version": ""
        }
    },
    "nbformat": 4,
    "nbformat_minor": 2
}
